{
  "nbformat": 4,
  "nbformat_minor": 0,
  "metadata": {
    "colab": {
      "name": "def함수.ipynb",
      "provenance": [],
      "authorship_tag": "ABX9TyN6Yd7bV2Dkm6Qlyl9n4t/Q",
      "include_colab_link": true
    },
    "kernelspec": {
      "name": "python3",
      "display_name": "Python 3"
    },
    "language_info": {
      "name": "python"
    }
  },
  "cells": [
    {
      "cell_type": "markdown",
      "metadata": {
        "id": "view-in-github",
        "colab_type": "text"
      },
      "source": [
        "<a href=\"https://colab.research.google.com/github/jhay20ng/bigdata-ai/blob/main/def%ED%95%A8%EC%88%98.ipynb\" target=\"_parent\"><img src=\"https://colab.research.google.com/assets/colab-badge.svg\" alt=\"Open In Colab\"/></a>"
      ]
    },
    {
      "cell_type": "code",
      "execution_count": 3,
      "metadata": {
        "colab": {
          "base_uri": "https://localhost:8080/"
        },
        "id": "2YyT_eONobX8",
        "outputId": "c80f8955-9e84-435c-ff99-15aa675e04e7"
      },
      "outputs": [
        {
          "output_type": "stream",
          "name": "stdout",
          "text": [
            "가격 : 10000\n"
          ]
        }
      ],
      "source": [
        "# 음료의 잔 수(num_drink)을 전달받아, 총 가격을 반환해주는 함수\n",
        "def price(num_drink):\n",
        "    price_per_drink = 2500\n",
        "    total_price = num_drink * price_per_drink\n",
        "    return total_price # ❶ 계산한 값 반환\n",
        "\n",
        "result = price(4) # 함수 호출하고 반환값 저장\n",
        "print('가격 :', result)"
      ]
    },
    {
      "cell_type": "code",
      "source": [
        ""
      ],
      "metadata": {
        "id": "fsnLXUUOpZw6"
      },
      "execution_count": null,
      "outputs": []
    }
  ]
}