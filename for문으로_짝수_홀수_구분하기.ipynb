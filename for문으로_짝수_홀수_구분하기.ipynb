{
  "nbformat": 4,
  "nbformat_minor": 0,
  "metadata": {
    "colab": {
      "name": "if문으로 짝수 홀수 구분하기.ipynb",
      "provenance": [],
      "authorship_tag": "ABX9TyMOf4VuwRPYXwadREmjYNmJ",
      "include_colab_link": true
    },
    "kernelspec": {
      "name": "python3",
      "display_name": "Python 3"
    },
    "language_info": {
      "name": "python"
    }
  },
  "cells": [
    {
      "cell_type": "markdown",
      "metadata": {
        "id": "view-in-github",
        "colab_type": "text"
      },
      "source": [
        "<a href=\"https://colab.research.google.com/github/jhay20ng/bigdata-ai/blob/main/if%EB%AC%B8%EC%9C%BC%EB%A1%9C_%EC%A7%9D%EC%88%98_%ED%99%80%EC%88%98_%EA%B5%AC%EB%B6%84%ED%95%98%EA%B8%B0.ipynb\" target=\"_parent\"><img src=\"https://colab.research.google.com/assets/colab-badge.svg\" alt=\"Open In Colab\"/></a>"
      ]
    },
    {
      "cell_type": "code",
      "execution_count": 1,
      "metadata": {
        "colab": {
          "base_uri": "https://localhost:8080/"
        },
        "id": "axAUs7sLoDZQ",
        "outputId": "f4ec40b6-b5bb-4fb4-dca7-a81fcf398eab"
      },
      "outputs": [
        {
          "output_type": "stream",
          "name": "stdout",
          "text": [
            "0은 짝수\n",
            "1은 홀수\n",
            "2은 짝수\n",
            "3은 홀수\n",
            "4은 짝수\n",
            "5은 홀수\n",
            "6은 짝수\n",
            "7은 홀수\n",
            "8은 짝수\n",
            "9은 홀수\n",
            "10은 짝수\n",
            "11은 홀수\n",
            "12은 짝수\n",
            "13은 홀수\n",
            "14은 짝수\n",
            "15은 홀수\n",
            "16은 짝수\n",
            "17은 홀수\n",
            "18은 짝수\n",
            "19은 홀수\n",
            "20은 짝수\n",
            "21은 홀수\n",
            "22은 짝수\n",
            "23은 홀수\n",
            "24은 짝수\n",
            "25은 홀수\n",
            "26은 짝수\n",
            "27은 홀수\n",
            "28은 짝수\n",
            "29은 홀수\n",
            "30은 짝수\n",
            "31은 홀수\n",
            "32은 짝수\n",
            "33은 홀수\n",
            "34은 짝수\n"
          ]
        }
      ],
      "source": [
        "#if문으로 짝/홀 구분하기\n",
        "\n",
        "for i in range(0,35):\n",
        "  if i % 2 == 0:\n",
        "    print('%d은 짝수' % i)\n",
        "  \n",
        "  else: \n",
        "    print('%d은 홀수' % i)\n",
        "\n",
        "    \n"
      ]
    }
  ]
}
