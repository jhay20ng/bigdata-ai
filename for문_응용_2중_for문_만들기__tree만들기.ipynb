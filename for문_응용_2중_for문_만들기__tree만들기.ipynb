{
  "nbformat": 4,
  "nbformat_minor": 0,
  "metadata": {
    "colab": {
      "name": "for문 응용_2중 for문 만들기_ tree만들기.ipynb",
      "provenance": [],
      "authorship_tag": "ABX9TyOr+omx8inQrNa/j2PBdF6F",
      "include_colab_link": true
    },
    "kernelspec": {
      "name": "python3",
      "display_name": "Python 3"
    },
    "language_info": {
      "name": "python"
    }
  },
  "cells": [
    {
      "cell_type": "markdown",
      "metadata": {
        "id": "view-in-github",
        "colab_type": "text"
      },
      "source": [
        "<a href=\"https://colab.research.google.com/github/jhay20ng/bigdata-ai/blob/main/for%EB%AC%B8_%EC%9D%91%EC%9A%A9_2%EC%A4%91_for%EB%AC%B8_%EB%A7%8C%EB%93%A4%EA%B8%B0__tree%EB%A7%8C%EB%93%A4%EA%B8%B0.ipynb\" target=\"_parent\"><img src=\"https://colab.research.google.com/assets/colab-badge.svg\" alt=\"Open In Colab\"/></a>"
      ]
    },
    {
      "cell_type": "markdown",
      "source": [
        "별 모양 트리 거꾸로 세우기"
      ],
      "metadata": {
        "id": "pCBoCwg3zWJQ"
      }
    },
    {
      "cell_type": "code",
      "execution_count": 1,
      "metadata": {
        "colab": {
          "base_uri": "https://localhost:8080/"
        },
        "id": "3XP8O2OZx13X",
        "outputId": "f2c617b3-5479-4fc5-d3e5-0dcdeadf7ae9"
      },
      "outputs": [
        {
          "output_type": "stream",
          "name": "stdout",
          "text": [
            "*****\n",
            "****\n",
            "***\n",
            "**\n",
            "*\n"
          ]
        }
      ],
      "source": [
        "for i in range(5, 0, -1):\n",
        "  for j in range(i):\n",
        "    print('*', end = \"\")\n",
        "  print('')"
      ]
    },
    {
      "cell_type": "code",
      "source": [
        ""
      ],
      "metadata": {
        "id": "2Vxvsmw3zrdA"
      },
      "execution_count": null,
      "outputs": []
    }
  ]
}