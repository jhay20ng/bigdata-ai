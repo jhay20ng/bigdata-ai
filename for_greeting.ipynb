{
  "nbformat": 4,
  "nbformat_minor": 0,
  "metadata": {
    "colab": {
      "name": "for_greeting.ipynb",
      "provenance": [],
      "collapsed_sections": [],
      "authorship_tag": "ABX9TyOI6QGWbX4UJjd7VREU3Ss3",
      "include_colab_link": true
    },
    "kernelspec": {
      "name": "python3",
      "display_name": "Python 3"
    },
    "language_info": {
      "name": "python"
    }
  },
  "cells": [
    {
      "cell_type": "markdown",
      "metadata": {
        "id": "view-in-github",
        "colab_type": "text"
      },
      "source": [
        "<a href=\"https://colab.research.google.com/github/jhay20ng/bigdata-ai/blob/main/for_greeting.ipynb\" target=\"_parent\"><img src=\"https://colab.research.google.com/assets/colab-badge.svg\" alt=\"Open In Colab\"/></a>"
      ]
    },
    {
      "cell_type": "code",
      "execution_count": 1,
      "metadata": {
        "colab": {
          "base_uri": "https://localhost:8080/"
        },
        "id": "imeatzkeFm1E",
        "outputId": "d8e06f18-3095-4f85-feea-61447bb44f5b"
      },
      "outputs": [
        {
          "output_type": "stream",
          "name": "stdout",
          "text": [
            "안녕, 홍길동\n",
            "안녕, 유관순\n",
            "안녕, 뽀로로\n"
          ]
        }
      ],
      "source": [
        "# for반복문을 활용하여 리스트 내 이름을 출력하기\n",
        "list = ['홍길동','유관순','뽀로로']  # 리스트\n",
        "for i in list:                       # 리스트 내 원소를 하나씩 읽기\n",
        "  print('안녕, {}'.format(i))        # 반복 출력하기"
      ]
    }
  ]
}