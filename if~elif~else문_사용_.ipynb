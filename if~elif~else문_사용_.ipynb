{
  "nbformat": 4,
  "nbformat_minor": 0,
  "metadata": {
    "colab": {
      "name": "if~elif~else문 사용 .ipynb",
      "provenance": [],
      "authorship_tag": "ABX9TyM0In2UhGGp+O6o5MlesCrx",
      "include_colab_link": true
    },
    "kernelspec": {
      "name": "python3",
      "display_name": "Python 3"
    },
    "language_info": {
      "name": "python"
    }
  },
  "cells": [
    {
      "cell_type": "markdown",
      "metadata": {
        "id": "view-in-github",
        "colab_type": "text"
      },
      "source": [
        "<a href=\"https://colab.research.google.com/github/jhay20ng/bigdata-ai/blob/main/if~elif~else%EB%AC%B8_%EC%82%AC%EC%9A%A9_.ipynb\" target=\"_parent\"><img src=\"https://colab.research.google.com/assets/colab-badge.svg\" alt=\"Open In Colab\"/></a>"
      ]
    },
    {
      "cell_type": "code",
      "execution_count": null,
      "metadata": {
        "colab": {
          "base_uri": "https://localhost:8080/"
        },
        "id": "oA9bi8t3k8gS",
        "outputId": "98b833c5-436b-43c7-88d5-f7ff7648eb71"
      },
      "outputs": [
        {
          "output_type": "stream",
          "name": "stdout",
          "text": [
            "숫자를 입력하시오 :5\n",
            "숫자가 10보다 작네요\n"
          ]
        }
      ],
      "source": [
        "# 숫자를 입력받아 숫자가 10을 기준으로 큰지 작은지 판단하는 if문\n",
        "num = int(input('숫자를 입력하시오 :'))\n",
        "\n",
        "if num > 10: # 입력받은 숫자가 10보다 클 경우\n",
        "    print(\"숫자가 10보다 크네요\")\n",
        "elif num < 10: # 입력받은 숫자가 10보다 작을 경우    \n",
        "    print(\"숫자가 10보다 작네요\")\n",
        "else: # 입력받은 숫자가 10인 경우\n",
        "    print(\"숫자가 10이네요.\")"
      ]
    },
    {
      "cell_type": "code",
      "source": [
        ""
      ],
      "metadata": {
        "id": "39WTrb5GnVyB"
      },
      "execution_count": null,
      "outputs": []
    }
  ]
}