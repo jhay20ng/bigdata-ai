{
  "nbformat": 4,
  "nbformat_minor": 0,
  "metadata": {
    "colab": {
      "name": "for문 응용_2중 for문 만들기_ tree만들기.ipynb",
      "provenance": [],
      "collapsed_sections": [],
      "authorship_tag": "ABX9TyO7rqLCk5ANgtMyMyyH+1Kk",
      "include_colab_link": true
    },
    "kernelspec": {
      "name": "python3",
      "display_name": "Python 3"
    },
    "language_info": {
      "name": "python"
    }
  },
  "cells": [
    {
      "cell_type": "markdown",
      "metadata": {
        "id": "view-in-github",
        "colab_type": "text"
      },
      "source": [
        "<a href=\"https://colab.research.google.com/github/jhay20ng/bigdata-ai/blob/main/for%EB%AC%B8_%EC%9D%91%EC%9A%A9_2%EC%A4%91_for%EB%AC%B8_%EB%A7%8C%EB%93%A4%EA%B8%B0__tree%EB%A7%8C%EB%93%A4%EA%B8%B0_%EC%88%98%EC%A0%95.ipynb\" target=\"_parent\"><img src=\"https://colab.research.google.com/assets/colab-badge.svg\" alt=\"Open In Colab\"/></a>"
      ]
    },
    {
      "cell_type": "markdown",
      "source": [
        "별 모양 트리 그리깅"
      ],
      "metadata": {
        "id": "GSkM5kLT8Kwg"
      }
    },
    {
      "cell_type": "code",
      "source": [
        "for i in range(1, 6):\n",
        "  for j in range(i):\n",
        "    print('*', end = \"\")\n",
        "  print('')"
      ],
      "metadata": {
        "colab": {
          "base_uri": "https://localhost:8080/"
        },
        "id": "IZncE-3E8CYL",
        "outputId": "f465e330-3726-4865-aee6-4fe98efb92b2"
      },
      "execution_count": 1,
      "outputs": [
        {
          "output_type": "stream",
          "name": "stdout",
          "text": [
            "*\n",
            "**\n",
            "***\n",
            "****\n",
            "*****\n"
          ]
        }
      ]
    },
    {
      "cell_type": "markdown",
      "source": [
        "별 모양 트리 거꾸로 세우기"
      ],
      "metadata": {
        "id": "pCBoCwg3zWJQ"
      }
    },
    {
      "cell_type": "code",
      "execution_count": 2,
      "metadata": {
        "colab": {
          "base_uri": "https://localhost:8080/"
        },
        "id": "3XP8O2OZx13X",
        "outputId": "d7a1ebda-ec59-41f5-e76d-73b4922330a4"
      },
      "outputs": [
        {
          "output_type": "stream",
          "name": "stdout",
          "text": [
            "*****\n",
            "****\n",
            "***\n",
            "**\n",
            "*\n"
          ]
        }
      ],
      "source": [
        "for i in range(5, 0, -1):\n",
        "  for j in range(i):\n",
        "    print('*', end = \"\")\n",
        "  print('')"
      ]
    },
    {
      "cell_type": "markdown",
      "source": [
        "별모양 트리 그려주는 소스코드"
      ],
      "metadata": {
        "id": "DIPoHd1U8O7E"
      }
    },
    {
      "cell_type": "code",
      "source": [
        "def straight(floors):\n",
        "\n",
        "  floors += 1\n",
        "\n",
        "  for i in range(1, floors):\n",
        "    for j in range(i):\n",
        "      print('*', end = \"\")\n",
        "    print('')\n",
        "\n",
        "def inverted(floors):\n",
        "  for i in range(floors, 0, -1):\n",
        "    for j in range(i):\n",
        "      print('*', end = \"\")\n",
        "    print('')\n",
        "\n",
        "\n",
        "floors = int(input(\"그려보고 싶은 별모양 트리의 층 수를 입력해주세요: \"))\n",
        "\n",
        "ask = input(\"별모양 트리를 거꾸로 세우겠습니까? 그럴 경우에는 예라고 입력해주세요: \");print()\n",
        "\n",
        "if (ask == \"예\"):\n",
        "  inverted(floors)\n",
        "\n",
        "else:\n",
        "  straight(floors)\n"
      ],
      "metadata": {
        "id": "2Vxvsmw3zrdA",
        "colab": {
          "base_uri": "https://localhost:8080/"
        },
        "outputId": "6aaff865-8d6d-42e1-ce05-8c877d1a3b33"
      },
      "execution_count": 11,
      "outputs": [
        {
          "output_type": "stream",
          "name": "stdout",
          "text": [
            "그려보고 싶은 별모양 트리의 층 수를 입력해주세요: 8\n",
            "별모양 트리를 거꾸로 세우겠습니까? 그럴 경우에는 예라고 입력해주세요: 아니오\n",
            "\n",
            "*\n",
            "**\n",
            "***\n",
            "****\n",
            "*****\n",
            "******\n",
            "*******\n",
            "********\n"
          ]
        }
      ]
    },
    {
      "cell_type": "code",
      "source": [
        ""
      ],
      "metadata": {
        "id": "RkPPaNzU_ybu"
      },
      "execution_count": 6,
      "outputs": []
    }
  ]
}