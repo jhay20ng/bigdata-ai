{
  "nbformat": 4,
  "nbformat_minor": 0,
  "metadata": {
    "colab": {
      "name": "for_loop_list_sum.ipynb",
      "provenance": [],
      "collapsed_sections": [],
      "authorship_tag": "ABX9TyN/CV3kGrQgpvcnvziPAWdz",
      "include_colab_link": true
    },
    "kernelspec": {
      "name": "python3",
      "display_name": "Python 3"
    },
    "language_info": {
      "name": "python"
    }
  },
  "cells": [
    {
      "cell_type": "markdown",
      "metadata": {
        "id": "view-in-github",
        "colab_type": "text"
      },
      "source": [
        "<a href=\"https://colab.research.google.com/github/jhay20ng/bigdata-ai/blob/main/for_loop_list_sum.ipynb\" target=\"_parent\"><img src=\"https://colab.research.google.com/assets/colab-badge.svg\" alt=\"Open In Colab\"/></a>"
      ]
    },
    {
      "cell_type": "code",
      "execution_count": 4,
      "metadata": {
        "id": "JK7t-6OD3ADd",
        "colab": {
          "base_uri": "https://localhost:8080/"
        },
        "outputId": "619b9568-e94c-4c03-a598-a16a1d5ab986"
      },
      "outputs": [
        {
          "output_type": "stream",
          "name": "stdout",
          "text": [
            "2550\n",
            "[0, 2, 4, 6, 8, 10, 12, 14, 16, 18, 20, 22, 24, 26, 28, 30, 32, 34, 36, 38, 40, 42, 44, 46, 48, 50, 52, 54, 56, 58, 60, 62, 64, 66, 68, 70, 72, 74, 76, 78, 80, 82, 84, 86, 88, 90, 92, 94, 96, 98, 100]\n"
          ]
        }
      ],
      "source": [
        "# for문 예제\n",
        "# 1부터 100까지 짝수 리스트 출력\n",
        "\n",
        "my_list = []    # 짝수의 리스트 담을 빈 리스트 정의\n",
        "for i in range(0,101,2):   # 0~100까지 2씩 점프 range(최소값, 최댓값+1, 간격)\n",
        "  my_list.append(i)  # append() 리스트의 마지막에 i를 추가 \n",
        "\n",
        "print(my_list)  # 최종 리스트"
      ]
    },
    {
      "cell_type": "code",
      "source": [
        "# 1부터 100까지 짝수 합\n",
        "\n",
        "my_sum = 0      # 합의 초기값(스칼라)\n",
        "for i in range(0,101,2):   # 0~100까지 2씩 점프 range(최소값, 최댓값+1, 간격)\n",
        "  my_sum += i        # i값을 my_sum에 더함\n",
        "\n",
        "print(my_sum)   # 최종 합계"
      ],
      "metadata": {
        "id": "YGwNsTUBmnJz"
      },
      "execution_count": null,
      "outputs": []
    }
  ]
}